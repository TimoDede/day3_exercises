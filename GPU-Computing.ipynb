{
  "nbformat": 4,
  "nbformat_minor": 0,
  "metadata": {
    "colab": {
      "provenance": [],
      "authorship_tag": "ABX9TyNLFBCkUJ4913DVZA941GcA",
      "include_colab_link": true
    },
    "kernelspec": {
      "name": "python3",
      "display_name": "Python 3"
    },
    "language_info": {
      "name": "python"
    },
    "accelerator": "GPU",
    "gpuClass": "standard"
  },
  "cells": [
    {
      "cell_type": "markdown",
      "metadata": {
        "id": "view-in-github",
        "colab_type": "text"
      },
      "source": [
        "<a href=\"https://colab.research.google.com/github/TimoDede/day3_exercises/blob/main/GPU-Computing.ipynb\" target=\"_parent\"><img src=\"https://colab.research.google.com/assets/colab-badge.svg\" alt=\"Open In Colab\"/></a>"
      ]
    },
    {
      "cell_type": "code",
      "execution_count": 1,
      "metadata": {
        "colab": {
          "base_uri": "https://localhost:8080/"
        },
        "id": "wMKiSBFqV9tI",
        "outputId": "da63d96d-aaad-49c5-d093-07334deed8ca"
      },
      "outputs": [
        {
          "output_type": "stream",
          "name": "stdout",
          "text": [
            "Thu Mar  9 12:29:18 2023       \n",
            "+-----------------------------------------------------------------------------+\n",
            "| NVIDIA-SMI 525.85.12    Driver Version: 525.85.12    CUDA Version: 12.0     |\n",
            "|-------------------------------+----------------------+----------------------+\n",
            "| GPU  Name        Persistence-M| Bus-Id        Disp.A | Volatile Uncorr. ECC |\n",
            "| Fan  Temp  Perf  Pwr:Usage/Cap|         Memory-Usage | GPU-Util  Compute M. |\n",
            "|                               |                      |               MIG M. |\n",
            "|===============================+======================+======================|\n",
            "|   0  Tesla T4            Off  | 00000000:00:04.0 Off |                    0 |\n",
            "| N/A   54C    P0    28W /  70W |      0MiB / 15360MiB |      0%      Default |\n",
            "|                               |                      |                  N/A |\n",
            "+-------------------------------+----------------------+----------------------+\n",
            "                                                                               \n",
            "+-----------------------------------------------------------------------------+\n",
            "| Processes:                                                                  |\n",
            "|  GPU   GI   CI        PID   Type   Process name                  GPU Memory |\n",
            "|        ID   ID                                                   Usage      |\n",
            "|=============================================================================|\n",
            "|  No running processes found                                                 |\n",
            "+-----------------------------------------------------------------------------+\n"
          ]
        }
      ],
      "source": [
        "!nvidia-smi"
      ]
    },
    {
      "cell_type": "code",
      "source": [
        "import cupy as cp\n",
        "\n",
        "# time iterate with cupy\n",
        "\n",
        "for i in [32, 64, 128, 256, 512, 1024, 2048]:\n",
        "  a = cp.random.random(i**2).reshape(i, i)\n",
        "  %timeit cp.fft.fft2(a)"
      ],
      "metadata": {
        "colab": {
          "base_uri": "https://localhost:8080/"
        },
        "id": "xcBTiAL9Wne1",
        "outputId": "5c993b07-0b2d-4906-d91b-ac86f5beb617"
      },
      "execution_count": 8,
      "outputs": [
        {
          "output_type": "stream",
          "name": "stdout",
          "text": [
            "75.1 µs ± 12.6 µs per loop (mean ± std. dev. of 7 runs, 10000 loops each)\n",
            "76 µs ± 5.19 µs per loop (mean ± std. dev. of 7 runs, 10000 loops each)\n",
            "73.5 µs ± 9.62 µs per loop (mean ± std. dev. of 7 runs, 10000 loops each)\n",
            "70.3 µs ± 2.36 µs per loop (mean ± std. dev. of 7 runs, 10000 loops each)\n",
            "258 µs ± 1.34 µs per loop (mean ± std. dev. of 7 runs, 10000 loops each)\n",
            "1.15 ms ± 2.14 µs per loop (mean ± std. dev. of 7 runs, 1000 loops each)\n",
            "4.46 ms ± 30.7 µs per loop (mean ± std. dev. of 7 runs, 1000 loops each)\n"
          ]
        }
      ]
    },
    {
      "cell_type": "code",
      "source": [
        "import cupy as cp\n",
        "\n",
        "# time iterate with cupy with float32 datatype\n",
        "\n",
        "for i in [32, 64, 128, 256, 512, 1024, 2048]:\n",
        "  a = cp.random.random(i**2).reshape(i, i).astype('float32')\n",
        "  %timeit cp.fft.fft2(a)"
      ],
      "metadata": {
        "colab": {
          "base_uri": "https://localhost:8080/"
        },
        "id": "3LrOKfVHbCxs",
        "outputId": "20fc9f15-b492-44c5-ab40-37a7162ba00c"
      },
      "execution_count": 9,
      "outputs": [
        {
          "output_type": "stream",
          "name": "stdout",
          "text": [
            "90.8 µs ± 43.5 µs per loop (mean ± std. dev. of 7 runs, 1 loop each)\n",
            "71.1 µs ± 1.39 µs per loop (mean ± std. dev. of 7 runs, 10000 loops each)\n",
            "113 µs ± 54.1 µs per loop (mean ± std. dev. of 7 runs, 10000 loops each)\n",
            "86.3 µs ± 14.8 µs per loop (mean ± std. dev. of 7 runs, 10000 loops each)\n",
            "72 µs ± 890 ns per loop (mean ± std. dev. of 7 runs, 10000 loops each)\n",
            "231 µs ± 396 ns per loop (mean ± std. dev. of 7 runs, 10000 loops each)\n",
            "961 µs ± 659 ns per loop (mean ± std. dev. of 7 runs, 1000 loops each)\n"
          ]
        }
      ]
    },
    {
      "cell_type": "code",
      "source": [
        "import numpy as np\n",
        "\n",
        "#time iterate with cupy\n",
        "\n",
        "for i in [32, 64, 128, 256, 512, 1024, 2048]:\n",
        "  a = np.random.random(i**2).reshape(i,i).astype('float32')\n",
        "  %timeit np.fft.fft2(a)"
      ],
      "metadata": {
        "colab": {
          "base_uri": "https://localhost:8080/"
        },
        "id": "pYFKBqdtbbEd",
        "outputId": "e2e14bc7-a448-4628-c85f-83f5f580c755"
      },
      "execution_count": 10,
      "outputs": [
        {
          "output_type": "stream",
          "name": "stdout",
          "text": [
            "45.9 µs ± 12.3 µs per loop (mean ± std. dev. of 7 runs, 10000 loops each)\n",
            "71.7 µs ± 2.59 µs per loop (mean ± std. dev. of 7 runs, 10000 loops each)\n",
            "237 µs ± 11.9 µs per loop (mean ± std. dev. of 7 runs, 1000 loops each)\n",
            "1.19 ms ± 270 µs per loop (mean ± std. dev. of 7 runs, 1000 loops each)\n",
            "5.08 ms ± 87.9 µs per loop (mean ± std. dev. of 7 runs, 100 loops each)\n",
            "35.3 ms ± 7.04 ms per loop (mean ± std. dev. of 7 runs, 10 loops each)\n",
            "175 ms ± 33 ms per loop (mean ± std. dev. of 7 runs, 1 loop each)\n"
          ]
        }
      ]
    },
    {
      "cell_type": "code",
      "source": [
        "import numpy as np\n",
        "\n",
        "#time iterate with cupy\n",
        "\n",
        "for i in [32, 64, 128, 256, 512, 1024, 2048]:\n",
        "  a = np.random.random(i**2).reshape(i,i)\n",
        "  %timeit np.fft.fft2(a)"
      ],
      "metadata": {
        "colab": {
          "base_uri": "https://localhost:8080/"
        },
        "id": "XzPWvWKRcHrq",
        "outputId": "73352534-9f65-4b33-fb2b-ccd2f2140693"
      },
      "execution_count": 7,
      "outputs": [
        {
          "output_type": "stream",
          "name": "stdout",
          "text": [
            "32.8 µs ± 849 ns per loop (mean ± std. dev. of 7 runs, 10000 loops each)\n",
            "86.8 µs ± 25.3 µs per loop (mean ± std. dev. of 7 runs, 10000 loops each)\n",
            "243 µs ± 7.19 µs per loop (mean ± std. dev. of 7 runs, 1000 loops each)\n",
            "1.2 ms ± 283 µs per loop (mean ± std. dev. of 7 runs, 1000 loops each)\n",
            "5.55 ms ± 419 µs per loop (mean ± std. dev. of 7 runs, 100 loops each)\n",
            "27.1 ms ± 1.12 ms per loop (mean ± std. dev. of 7 runs, 10 loops each)\n",
            "153 ms ± 9.77 ms per loop (mean ± std. dev. of 7 runs, 10 loops each)\n"
          ]
        }
      ]
    }
  ]
}